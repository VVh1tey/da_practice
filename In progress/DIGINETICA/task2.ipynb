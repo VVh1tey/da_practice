{
 "cells": [
  {
   "cell_type": "markdown",
   "metadata": {},
   "source": [
    "# Импорт нужных библиотек"
   ]
  },
  {
   "cell_type": "code",
   "execution_count": 1,
   "metadata": {},
   "outputs": [],
   "source": [
    "import pandas as pd\n",
    "import matplotlib.pyplot as plt\n",
    "import seaborn as sns"
   ]
  },
  {
   "cell_type": "markdown",
   "metadata": {},
   "source": [
    "# Задание 2"
   ]
  },
  {
   "cell_type": "markdown",
   "metadata": {},
   "source": [
    "# Задание 4"
   ]
  },
  {
   "cell_type": "code",
   "execution_count": 3,
   "metadata": {},
   "outputs": [],
   "source": [
    "def filter_by_notes(seed_item: dict, recommendations: list, include_no_attribute: bool = False):\n",
    "    \"\"\"\n",
    "    Фильтрует рекомендуемые товары по атрибуту \"Ноты аромата\" на основе значений атрибута seed-товара.\n",
    "    \n",
    "    :param seed_item: словарь с атрибутами seed-товара, в том числе \"Ноты аромата\"\n",
    "    :param recommendations: список рекомендуемых товаров, каждый элемент — словарь с атрибутами товара\n",
    "    :param include_no_attribute: если False, исключает товары без атрибута \"Ноты аромата\"\n",
    "    :return: отфильтрованный список рекомендуемых товаров\n",
    "    \"\"\"\n",
    "    \n",
    "    seed_notes = seed_item.get('Ноты аромата', '').strip()\n",
    "\n",
    "    if not seed_notes:\n",
    "        return []\n",
    "\n",
    "    seed_notes_list = [note.strip().lower() for note in seed_notes.split(',')]\n",
    "    filtered = []\n",
    "    \n",
    "    for rec_item in recommendations:\n",
    "        rec_notes = rec_item.get('Ноты аромата', '').strip()\n",
    "        \n",
    "        # Если у товара нет атрибута \"Ноты аромата\", пропускаем его\n",
    "        if not rec_notes:\n",
    "            if not include_no_attribute:\n",
    "                continue\n",
    "            else:\n",
    "                filtered.append(rec_item)\n",
    "                continue\n",
    "\n",
    "        rec_notes_list = [note.strip().lower() for note in rec_notes.split(',')]\n",
    "\n",
    "        if all(note in rec_notes_list for note in seed_notes_list):\n",
    "            filtered.append(rec_item)\n",
    "    \n",
    "    return filtered"
   ]
  },
  {
   "cell_type": "code",
   "execution_count": null,
   "metadata": {},
   "outputs": [],
   "source": [
    "products = {'Товар А':'роза',\n",
    "            'Товар Б':'пачули, кедр',\n",
    "            'Товар С':'кедр, пачули, роза, ладан',\n",
    "            'Товар Д':'ладан, роза',\n",
    "            'Товар Г':'атрибут отсутствует'}\n",
    "seed_item = {'Ноты аромата': 'роза, пачули, кедр'}\n",
    "print(filter_by_notes(seed_item=seed_item, recommendations=, include_no_attribute=False))"
   ]
  }
 ],
 "metadata": {
  "kernelspec": {
   "display_name": ".venv",
   "language": "python",
   "name": "python3"
  },
  "language_info": {
   "codemirror_mode": {
    "name": "ipython",
    "version": 3
   },
   "file_extension": ".py",
   "mimetype": "text/x-python",
   "name": "python",
   "nbconvert_exporter": "python",
   "pygments_lexer": "ipython3",
   "version": "3.11.4"
  }
 },
 "nbformat": 4,
 "nbformat_minor": 2
}
