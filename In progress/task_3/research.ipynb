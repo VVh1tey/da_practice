{
 "cells": [
  {
   "cell_type": "markdown",
   "metadata": {},
   "source": [
    "# Импорт библиотек"
   ]
  },
  {
   "cell_type": "code",
   "execution_count": 6,
   "metadata": {},
   "outputs": [],
   "source": [
    "import pandas as pd\n",
    "import matplotlib.pyplot as plt\n",
    "import seaborn as sns\n",
    "import numpy as np\n",
    "\n",
    "import requests\n",
    "from datetime import datetime"
   ]
  },
  {
   "cell_type": "markdown",
   "metadata": {},
   "source": [
    "# Составление датасета"
   ]
  },
  {
   "cell_type": "code",
   "execution_count": 45,
   "metadata": {},
   "outputs": [
    {
     "name": "stdout",
     "output_type": "stream",
     "text": [
      "200\n",
      "{\"meta\":{\"name\":\"openaq-api\",\"license\":\"\",\"website\":\"/\",\"page\":1,\"limit\":1,\"found\":\">1\"},\"results\":[{\"location\":\"Amsterdam-Vondelpark\",\"parameter\":\"pm25\",\"value\":94.4,\"date\":{\"utc\":\"2023-01-01T00:00:00+00:00\",\"local\":\"2023-01-01T01:00:00+01:00\"},\"unit\":\"µg/m³\",\"coordinates\":{\"latitude\":52.359714000013874,\"longitude\":4.866208000411839},\"country\":\"NL\",\"city\":null}]}\n"
     ]
    }
   ],
   "source": [
    "POLLUTE_PARAMS = {'parameter': ['pm25', 'pm10', 'so2', 'no2', 'co','no',]}\n",
    "\n",
    "url = \"https://api.openaq.org/v1/measurements\"\n",
    "headers = {}\n",
    "\n",
    "with open('apikey', \"r\") as keyfile:\n",
    "    headers['x-api-key'] = keyfile.readline()\n",
    "params = {\n",
    "    'city': ['Amsterdam', 'Paris', 'Frankfurt', 'Munich', 'Prague', 'Warsaw'],\n",
    "    'parameter': ['pm25'],\n",
    "    'date_from': '2022-06-01',\n",
    "    'date_to': '2023-01-01',\n",
    "    'limit': 1,\n",
    "}\n",
    "\n",
    "\n",
    "response = requests.get(url, headers=headers, params=params)\n",
    "print(response.status_code)\n",
    "print(response.text)  \n",
    "# data = response.json()"
   ]
  },
  {
   "cell_type": "code",
   "execution_count": 25,
   "metadata": {},
   "outputs": [
    {
     "data": {
      "text/html": [
       "<div>\n",
       "<style scoped>\n",
       "    .dataframe tbody tr th:only-of-type {\n",
       "        vertical-align: middle;\n",
       "    }\n",
       "\n",
       "    .dataframe tbody tr th {\n",
       "        vertical-align: top;\n",
       "    }\n",
       "\n",
       "    .dataframe thead th {\n",
       "        text-align: right;\n",
       "    }\n",
       "</style>\n",
       "<table border=\"1\" class=\"dataframe\">\n",
       "  <thead>\n",
       "    <tr style=\"text-align: right;\">\n",
       "      <th></th>\n",
       "      <th>results</th>\n",
       "      <th>meta.name</th>\n",
       "      <th>meta.license</th>\n",
       "      <th>meta.website</th>\n",
       "      <th>meta.page</th>\n",
       "      <th>meta.limit</th>\n",
       "      <th>meta.found</th>\n",
       "    </tr>\n",
       "  </thead>\n",
       "  <tbody>\n",
       "    <tr>\n",
       "      <th>0</th>\n",
       "      <td>[{'location': '21 de mayo', 'parameter': 'pm25...</td>\n",
       "      <td>openaq-api</td>\n",
       "      <td></td>\n",
       "      <td>/</td>\n",
       "      <td>1</td>\n",
       "      <td>100</td>\n",
       "      <td>&gt;100</td>\n",
       "    </tr>\n",
       "  </tbody>\n",
       "</table>\n",
       "</div>"
      ],
      "text/plain": [
       "                                             results   meta.name meta.license  \\\n",
       "0  [{'location': '21 de mayo', 'parameter': 'pm25...  openaq-api                \n",
       "\n",
       "  meta.website  meta.page  meta.limit meta.found  \n",
       "0            /          1         100       >100  "
      ]
     },
     "execution_count": 25,
     "metadata": {},
     "output_type": "execute_result"
    }
   ],
   "source": [
    "df = pd.json_normalize(data)\n",
    "df"
   ]
  }
 ],
 "metadata": {
  "kernelspec": {
   "display_name": ".venv",
   "language": "python",
   "name": "python3"
  },
  "language_info": {
   "codemirror_mode": {
    "name": "ipython",
    "version": 3
   },
   "file_extension": ".py",
   "mimetype": "text/x-python",
   "name": "python",
   "nbconvert_exporter": "python",
   "pygments_lexer": "ipython3",
   "version": "3.11.4"
  }
 },
 "nbformat": 4,
 "nbformat_minor": 2
}
